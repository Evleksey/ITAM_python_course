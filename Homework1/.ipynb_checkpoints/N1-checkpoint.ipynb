{
 "cells": [
  {
   "cell_type": "code",
   "execution_count": 1,
   "id": "0786e49c",
   "metadata": {},
   "outputs": [
    {
     "name": "stdout",
     "output_type": "stream",
     "text": [
      "2:46:40\n"
     ]
    }
   ],
   "source": [
    "import datetime\n",
    "\n",
    "seconds=10000\n",
    "\n",
    "print(datetime.timedelta(seconds=seconds))"
   ]
  },
  {
   "cell_type": "code",
   "execution_count": null,
   "id": "b5cd2d96",
   "metadata": {},
   "outputs": [],
   "source": [
    "def add(num1, num2):\n",
    "    return num1 + num2\n",
    "\n",
    "def subtract(num1, num2):\n",
    "    return num1 - num2\n",
    "\n",
    "def multiply(num1, num2):\n",
    "    return num1 * num2\n",
    "\n",
    "def divide(num1, num2):\n",
    "    return num1 / num2\n",
    "\n",
    "print(\"Select operation:\")\n",
    "print(\"+. Addition\")\n",
    "print(\"-. Subtraction\")\n",
    "print(\"*. Multiplication\")\n",
    "print(\"/. Division\")\n",
    "\n",
    "choice = input(\"Enter choice (+/-/*//): \")\n",
    "\n",
    "num1 = float(input(\"First number: \"))\n",
    "num2 = float(input(\"Second number: \"))\n",
    "\n",
    " if choice == '+':\n",
    "        print(add(num1, num2))\n",
    "    elif choice == '-':\n",
    "        print(subtract(num1, num2))\n",
    "    elif choice == '*':\n",
    "        print(multiply(num1, num2))\n",
    "elif choice == '4':\n",
    "        if num2 == 0:\n",
    "            print(\"Divide by zero\")\n",
    "        else:\n",
    "            print(divide(num1, num2))\n",
    "    else:\n",
    "        print(\"Invalid input.)"
   ]
  }
 ],
 "metadata": {
  "kernelspec": {
   "display_name": "Python 3 (ipykernel)",
   "language": "python",
   "name": "python3"
  },
  "language_info": {
   "codemirror_mode": {
    "name": "ipython",
    "version": 3
   },
   "file_extension": ".py",
   "mimetype": "text/x-python",
   "name": "python",
   "nbconvert_exporter": "python",
   "pygments_lexer": "ipython3",
   "version": "3.11.5"
  }
 },
 "nbformat": 4,
 "nbformat_minor": 5
}
