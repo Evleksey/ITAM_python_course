{
 "cells": [
  {
   "cell_type": "code",
   "execution_count": 1,
   "id": "42aa25bf",
   "metadata": {},
   "outputs": [
    {
     "name": "stdout",
     "output_type": "stream",
     "text": [
      "January\n"
     ]
    }
   ],
   "source": [
    "import datetime\n",
    "\n",
    "month = 1\n",
    "print(datetime.date(1900, month, 1).strftime('%B'))"
   ]
  },
  {
   "cell_type": "code",
   "execution_count": 2,
   "id": "335b577a",
   "metadata": {},
   "outputs": [
    {
     "name": "stdout",
     "output_type": "stream",
     "text": [
      "LCD of 600 and 1012 is 151800\n"
     ]
    }
   ],
   "source": [
    "def gcd(a, b):\n",
    "    while b:\n",
    "        a, b = b, a % b\n",
    "    return a\n",
    "\n",
    "def lcd(a, b):\n",
    "    return (a * b) // gcd(a, b)\n",
    "\n",
    "\n",
    "a = 600\n",
    "b = 1012\n",
    "\n",
    "\n",
    "result = lcd(a, b)\n",
    "print(\"LCD of\", a, \"and\", b, \"is\", result)"
   ]
  },
  {
   "cell_type": "code",
   "execution_count": 6,
   "id": "55725db6",
   "metadata": {},
   "outputs": [
    {
     "name": "stdout",
     "output_type": "stream",
     "text": [
      "gif  OK\n"
     ]
    }
   ],
   "source": [
    "file='Моя диссертац.gif'\n",
    "extensions = ['png', 'jpg', 'jpeg', 'gif', 'svg']\n",
    "\n",
    "ext = file.split(\".\")\n",
    "\n",
    "if ext[1] in extensions:\n",
    "    print (ext[1],\" OK\")\n",
    "else: \n",
    "    print (ext[1],\" not OK\")\n"
   ]
  },
  {
   "cell_type": "code",
   "execution_count": 10,
   "id": "daf55761",
   "metadata": {},
   "outputs": [
    {
     "name": "stdout",
     "output_type": "stream",
     "text": [
      "Не високосный\n"
     ]
    }
   ],
   "source": [
    "year=2022\n",
    "\n",
    "if year % 4 == 0 and (year % 100 != 0 or year % 400 == 0):\n",
    "    print(\"Високосный\")\n",
    "else:\n",
    "    print(\"Не високосный\")"
   ]
  },
  {
   "cell_type": "code",
   "execution_count": null,
   "id": "d0456021",
   "metadata": {},
   "outputs": [],
   "source": []
  }
 ],
 "metadata": {
  "kernelspec": {
   "display_name": "Python 3 (ipykernel)",
   "language": "python",
   "name": "python3"
  },
  "language_info": {
   "codemirror_mode": {
    "name": "ipython",
    "version": 3
   },
   "file_extension": ".py",
   "mimetype": "text/x-python",
   "name": "python",
   "nbconvert_exporter": "python",
   "pygments_lexer": "ipython3",
   "version": "3.11.5"
  }
 },
 "nbformat": 4,
 "nbformat_minor": 5
}
