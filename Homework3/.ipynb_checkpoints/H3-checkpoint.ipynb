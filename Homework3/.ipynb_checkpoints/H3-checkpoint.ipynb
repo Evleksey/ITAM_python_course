{
 "cells": [
  {
   "cell_type": "code",
   "execution_count": 25,
   "id": "0c4c1ba8",
   "metadata": {},
   "outputs": [],
   "source": [
    "#1\n",
    "import math"
   ]
  },
  {
   "cell_type": "code",
   "execution_count": 8,
   "id": "8469ebb9",
   "metadata": {},
   "outputs": [],
   "source": [
    "def sqroot(x, n=2):\n",
    "    return(math.pow(x,1/n))"
   ]
  },
  {
   "cell_type": "code",
   "execution_count": 9,
   "id": "f1b7123d",
   "metadata": {},
   "outputs": [
    {
     "name": "stdout",
     "output_type": "stream",
     "text": [
      "2.0\n"
     ]
    }
   ],
   "source": [
    "print(sqroot(4))"
   ]
  },
  {
   "cell_type": "code",
   "execution_count": 10,
   "id": "d6fc5184",
   "metadata": {},
   "outputs": [
    {
     "name": "stdout",
     "output_type": "stream",
     "text": [
      "2.0\n"
     ]
    }
   ],
   "source": [
    "print(sqroot(4,2))"
   ]
  },
  {
   "cell_type": "code",
   "execution_count": 11,
   "id": "1dd11450",
   "metadata": {},
   "outputs": [],
   "source": [
    "#2\n",
    "file = 'Моя диссертац.gif'\n",
    "extensions = ['png', 'jpg', 'jpeg', 'gif', 'svg']\n"
   ]
  },
  {
   "cell_type": "code",
   "execution_count": 21,
   "id": "3ef7ec70",
   "metadata": {},
   "outputs": [],
   "source": [
    "def extentionCheck(file, extentions):\n",
    "    parts = file.split(\".\")\n",
    "    if(parts[1] in extentions):\n",
    "#             print(parts[1]);\n",
    "            return True;\n",
    "    return False;"
   ]
  },
  {
   "cell_type": "code",
   "execution_count": 24,
   "id": "5152a98f",
   "metadata": {},
   "outputs": [
    {
     "name": "stdout",
     "output_type": "stream",
     "text": [
      "Ok\n"
     ]
    }
   ],
   "source": [
    "print((\"Not Ok\",\"Ok\")[extentionCheck(file,extensions)])"
   ]
  },
  {
   "cell_type": "code",
   "execution_count": 26,
   "id": "e52bc70f",
   "metadata": {},
   "outputs": [],
   "source": [
    "#3\n",
    "dict_a = {1:10, 2:20}\n",
    "dict_b = {3:30, 4:40}\n",
    "dict_c = {5:50, 6:60}"
   ]
  },
  {
   "cell_type": "code",
   "execution_count": 28,
   "id": "c27a8625",
   "metadata": {},
   "outputs": [
    {
     "name": "stdout",
     "output_type": "stream",
     "text": [
      "{1: 10, 2: 20, 3: 30, 4: 40, 5: 50, 6: 60}\n"
     ]
    }
   ],
   "source": [
    "print(dict_a|dict_b|dict_c)"
   ]
  },
  {
   "cell_type": "code",
   "execution_count": 30,
   "id": "36d8a67e",
   "metadata": {},
   "outputs": [],
   "source": [
    "#4\n",
    "def summ(num):\n",
    "    numstr = str(num)\n",
    "    sum = 0\n",
    "    for i in numstr:\n",
    "        sum += int(i)\n",
    "    return sum;"
   ]
  },
  {
   "cell_type": "code",
   "execution_count": 32,
   "id": "f1e02517",
   "metadata": {},
   "outputs": [
    {
     "name": "stdout",
     "output_type": "stream",
     "text": [
      "10\n"
     ]
    }
   ],
   "source": [
    "print(summ(1234))"
   ]
  },
  {
   "cell_type": "code",
   "execution_count": 33,
   "id": "068d04ca",
   "metadata": {},
   "outputs": [],
   "source": [
    "#5\n",
    "def check( numbers):\n",
    "    if len(numbers) == len(set(numbers)):\n",
    "        return True;\n",
    "    return False;"
   ]
  },
  {
   "cell_type": "code",
   "execution_count": 36,
   "id": "aa9b32e9",
   "metadata": {},
   "outputs": [
    {
     "name": "stdout",
     "output_type": "stream",
     "text": [
      "Ok\n"
     ]
    }
   ],
   "source": [
    "numbers=[1,4,5]\n",
    "\n",
    "print((\"Not Ok\",\"Ok\")[check(numbers)])\n"
   ]
  },
  {
   "cell_type": "code",
   "execution_count": 46,
   "id": "0a2cbca5",
   "metadata": {},
   "outputs": [
    {
     "name": "stdout",
     "output_type": "stream",
     "text": [
      "Номер  0  ->  я\n",
      "Номер  1  ->  не\n",
      "Номер  2  ->  в\n",
      "Номер  3  ->  отпуск\n",
      "Номер  4  ->  сегодня\n"
     ]
    }
   ],
   "source": [
    "#6\n",
    "def print_list(my_list):\n",
    "    for i in range(0, len(my_list)):\n",
    "        print('Номер ', i, ' -> ', my_list[i])\n",
    "    pass\n",
    "\n",
    "print_list([\"я\", \"не\", \"в\", \"отпуск\" , \"сегодня\"])"
   ]
  },
  {
   "cell_type": "code",
   "execution_count": 47,
   "id": "abfce190",
   "metadata": {},
   "outputs": [
    {
     "name": "stdout",
     "output_type": "stream",
     "text": [
      "key1  ->  2\n",
      "key3  ->  False\n",
      "Приветствие  ->  Hello\n"
     ]
    }
   ],
   "source": [
    "\n",
    "def print_dict(my_dict):\n",
    "    for key, val in my_dict.items():\n",
    "        print(key, \" -> \", val)\n",
    "    pass\n",
    "\n",
    "print_dict({\"key1\": 2, \"key3\": False, \"Приветствие\": \"Hello\"})"
   ]
  },
  {
   "cell_type": "code",
   "execution_count": 48,
   "id": "5894b9b2",
   "metadata": {},
   "outputs": [],
   "source": [
    "from multipledispatch import dispatch"
   ]
  },
  {
   "cell_type": "code",
   "execution_count": 55,
   "id": "029a5206",
   "metadata": {},
   "outputs": [
    {
     "name": "stdout",
     "output_type": "stream",
     "text": [
      "object  1\n",
      "list:\n",
      "Номер  0  ->  1\n",
      "Номер  1  ->  2\n",
      "Номер  2  ->  3\n",
      "Номер  3  ->  4\n",
      "object  Hello\n",
      "dict\n",
      "ciao  ->  Mondo\n",
      "Привет  ->  О дивный мир\n"
     ]
    }
   ],
   "source": [
    "@dispatch(list)\n",
    "def print_custom(my_list):\n",
    "    print(\"list:\")\n",
    "    for i in range(0, len(my_list)):\n",
    "        print('Номер ', i, ' -> ', my_list[i])\n",
    "    pass\n",
    "\n",
    "@dispatch(dict)\n",
    "def print_custom(my_dict):\n",
    "    print(\"dict\")\n",
    "    for key, val in my_dict.items():\n",
    "        print(key, \" -> \", val)\n",
    "    pass\n",
    "\n",
    "@dispatch(object)\n",
    "def print_custom(val):\n",
    "    print(\"object \", val)\n",
    "    pass\n",
    "\n",
    "def print_overlord(my_dict):\n",
    "    for key, val in my_dict.items():\n",
    "        print_custom(val)\n",
    "    pass\n",
    "\n",
    "print_overlord(dict(key1=1,\n",
    "            key2=[1, 2, 3, 4], \n",
    "            key3='Hello', \n",
    "            key4={\"ciao\":\"Mondo\", \"Привет\": \"О дивный мир\"}))"
   ]
  },
  {
   "cell_type": "code",
   "execution_count": 65,
   "id": "ff1844bc",
   "metadata": {},
   "outputs": [
    {
     "name": "stdout",
     "output_type": "stream",
     "text": [
      "Тут 0.03%\n",
      "фраза 0.06%\n",
      "с 0.01%\n",
      "пробелами 0.10%\n",
      "и 0.01%\n",
      "я 0.01%\n",
      "хочу 0.05%\n",
      "их 0.02%\n",
      "распечатать 0.13%\n",
      "по 0.02%\n",
      "одному 0.07%\n",
      "на 0.02%\n",
      "строку 0.07%\n",
      "и 0.01%\n",
      "ещё 0.03%\n",
      "посчитать 0.10%\n",
      "слова 0.06%\n"
     ]
    }
   ],
   "source": [
    "#*\n",
    "def word_count(phrase):\n",
    "    wordcount = len(phrase)\n",
    "#     print( len(phrase))\n",
    "    for word in phrase.split(\" \"):\n",
    "#         print(len(word))\n",
    "        print(f'{word} {(len(word)/wordcount):.2f}%')\n",
    "    pass\n",
    "   \n",
    "word_count(\"Тут фраза с пробелами и я хочу их распечатать по одному на строку и ещё посчитать слова\")"
   ]
  },
  {
   "cell_type": "code",
   "execution_count": null,
   "id": "b031af0c",
   "metadata": {},
   "outputs": [],
   "source": []
  }
 ],
 "metadata": {
  "kernelspec": {
   "display_name": "Python 3 (ipykernel)",
   "language": "python",
   "name": "python3"
  },
  "language_info": {
   "codemirror_mode": {
    "name": "ipython",
    "version": 3
   },
   "file_extension": ".py",
   "mimetype": "text/x-python",
   "name": "python",
   "nbconvert_exporter": "python",
   "pygments_lexer": "ipython3",
   "version": "3.11.5"
  }
 },
 "nbformat": 4,
 "nbformat_minor": 5
}
