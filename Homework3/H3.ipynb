{
 "cells": [
  {
   "cell_type": "code",
   "execution_count": 25,
   "id": "ad9086f8",
   "metadata": {},
   "outputs": [],
   "source": [
    "#1\n",
    "import math"
   ]
  },
  {
   "cell_type": "code",
   "execution_count": 8,
   "id": "f7b05f5e",
   "metadata": {},
   "outputs": [],
   "source": [
    "def sqroot(x, n=2):\n",
    "    return(math.pow(x,1/n))"
   ]
  },
  {
   "cell_type": "code",
   "execution_count": 9,
   "id": "d246640f",
   "metadata": {},
   "outputs": [
    {
     "name": "stdout",
     "output_type": "stream",
     "text": [
      "2.0\n"
     ]
    }
   ],
   "source": [
    "print(sqroot(4))"
   ]
  },
  {
   "cell_type": "code",
   "execution_count": 10,
   "id": "2758b931",
   "metadata": {},
   "outputs": [
    {
     "name": "stdout",
     "output_type": "stream",
     "text": [
      "2.0\n"
     ]
    }
   ],
   "source": [
    "print(sqroot(4,2))"
   ]
  },
  {
   "cell_type": "code",
   "execution_count": 11,
   "id": "dcfb04f7",
   "metadata": {},
   "outputs": [],
   "source": [
    "#2\n",
    "file = 'Моя диссертац.gif'\n",
    "extensions = ['png', 'jpg', 'jpeg', 'gif', 'svg']\n"
   ]
  },
  {
   "cell_type": "code",
   "execution_count": 21,
   "id": "db01777d",
   "metadata": {},
   "outputs": [],
   "source": [
    "def extentionCheck(file, extentions):\n",
    "    parts = file.split(\".\")\n",
    "    if(parts[1] in extentions):\n",
    "#             print(parts[1]);\n",
    "            return True;\n",
    "    return False;"
   ]
  },
  {
   "cell_type": "code",
   "execution_count": 24,
   "id": "44b6136d",
   "metadata": {},
   "outputs": [
    {
     "name": "stdout",
     "output_type": "stream",
     "text": [
      "Ok\n"
     ]
    }
   ],
   "source": [
    "print((\"Not Ok\",\"Ok\")[extentionCheck(file,extensions)])"
   ]
  },
  {
   "cell_type": "code",
   "execution_count": 26,
   "id": "9c318670",
   "metadata": {},
   "outputs": [],
   "source": [
    "#3\n",
    "dict_a = {1:10, 2:20}\n",
    "dict_b = {3:30, 4:40}\n",
    "dict_c = {5:50, 6:60}"
   ]
  },
  {
   "cell_type": "code",
   "execution_count": 28,
   "id": "4be09d92",
   "metadata": {},
   "outputs": [
    {
     "name": "stdout",
     "output_type": "stream",
     "text": [
      "{1: 10, 2: 20, 3: 30, 4: 40, 5: 50, 6: 60}\n"
     ]
    }
   ],
   "source": [
    "print(dict_a|dict_b|dict_c)"
   ]
  },
  {
   "cell_type": "code",
   "execution_count": 30,
   "id": "3d23fd03",
   "metadata": {},
   "outputs": [],
   "source": [
    "#4\n",
    "def summ(num):\n",
    "    numstr = str(num)\n",
    "    sum = 0\n",
    "    for i in numstr:\n",
    "        sum += int(i)\n",
    "    return sum;"
   ]
  },
  {
   "cell_type": "code",
   "execution_count": 32,
   "id": "9c513d74",
   "metadata": {},
   "outputs": [
    {
     "name": "stdout",
     "output_type": "stream",
     "text": [
      "10\n"
     ]
    }
   ],
   "source": [
    "print(summ(1234))"
   ]
  },
  {
   "cell_type": "code",
   "execution_count": 33,
   "id": "fd583cad",
   "metadata": {},
   "outputs": [],
   "source": [
    "#5\n",
    "def check( numbers):\n",
    "    if len(numbers) == len(set(numbers)):\n",
    "        return True;\n",
    "    return False;"
   ]
  },
  {
   "cell_type": "code",
   "execution_count": 36,
   "id": "fff76f4b",
   "metadata": {},
   "outputs": [
    {
     "name": "stdout",
     "output_type": "stream",
     "text": [
      "Ok\n"
     ]
    }
   ],
   "source": [
    "numbers=[1,4,5]\n",
    "\n",
    "print((\"Not Ok\",\"Ok\")[check(numbers)])\n"
   ]
  },
  {
   "cell_type": "code",
   "execution_count": null,
   "id": "3edbdbaf",
   "metadata": {},
   "outputs": [],
   "source": []
  }
 ],
 "metadata": {
  "kernelspec": {
   "display_name": "Python 3 (ipykernel)",
   "language": "python",
   "name": "python3"
  },
  "language_info": {
   "codemirror_mode": {
    "name": "ipython",
    "version": 3
   },
   "file_extension": ".py",
   "mimetype": "text/x-python",
   "name": "python",
   "nbconvert_exporter": "python",
   "pygments_lexer": "ipython3",
   "version": "3.11.5"
  }
 },
 "nbformat": 4,
 "nbformat_minor": 5
}
