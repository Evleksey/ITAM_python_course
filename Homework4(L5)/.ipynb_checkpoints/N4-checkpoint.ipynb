{
 "cells": [
  {
   "cell_type": "code",
   "execution_count": 2,
   "id": "d2af4533",
   "metadata": {},
   "outputs": [
    {
     "name": "stdout",
     "output_type": "stream",
     "text": [
      "Список отстающих учеников:\n",
      "4\n",
      "Петров И., оценка 3\n",
      "Дмитриев Н., оценка 2\n",
      "Котов Д., оценка 2\n",
      "Бирюкова Н., оценка 1\n",
      "Данилов П., оценка 3\n",
      "Лемонов Ю., оценка 2\n",
      "3\n",
      "2\n",
      "4\n",
      "5\n",
      "2\n",
      "1\n",
      "3\n",
      "5\n",
      "2\n",
      "4\n",
      "\n",
      "Средний балл по студентам: 3.18\n"
     ]
    }
   ],
   "source": [
    "#1 - Средний балл и список остающих учеников\n",
    "with open('students.txt', 'r', encoding='utf8') as fileprint:\n",
    "    lines = fileprint.read().split('\\n')\n",
    "    i = 0\n",
    "    s = 0\n",
    "    j = 0\n",
    "    print('Список отстающих учеников:')\n",
    "    while i < len(lines):\n",
    "        num = int(lines[i][-1])\n",
    "        print(lines[i][-1])\n",
    "        s += num\n",
    "        i += 1\n",
    "        while j < len(lines):\n",
    "            num = int(lines[j][-1])\n",
    "            if num < s:\n",
    "                print(f'{lines[j][0:-2]}, оценка {lines[j][-1]}')\n",
    "            j += 1\n",
    "    print(f'\\nСредний балл по студентам: {round(s/len(lines), 2)}')"
   ]
  },
  {
   "cell_type": "code",
   "execution_count": 14,
   "id": "18672ffe",
   "metadata": {},
   "outputs": [
    {
     "name": "stdout",
     "output_type": "stream",
     "text": [
      "Лекций: 2\n",
      "Практических: 3\n",
      "Лабораторных: 2\n"
     ]
    }
   ],
   "source": [
    "# 2 - Посчитать количество определенных слов в файле\n",
    "lec = 0\n",
    "pract = 0\n",
    "lab = 0\n",
    "\n",
    "with open('shedule.txt', 'r', encoding='utf8') as file:\n",
    "    for line in file:\n",
    "        if 'лекц' in line.lower():\n",
    "            lec += 1\n",
    "        if 'практ' in line.lower():\n",
    "            pract += 1\n",
    "        if 'лаб' in line.lower():\n",
    "            lab += 1\n",
    "\n",
    "print('Лекций:', lec)\n",
    "print('Практических:', pract)\n",
    "print('Лабораторных:', lab)"
   ]
  },
  {
   "cell_type": "code",
   "execution_count": null,
   "id": "317fa866",
   "metadata": {},
   "outputs": [],
   "source": [
    "# 3 Я воспользовался уже созданным ключем своего бота"
   ]
  },
  {
   "cell_type": "code",
   "execution_count": 10,
   "id": "06bcd914",
   "metadata": {},
   "outputs": [
    {
     "name": "stdout",
     "output_type": "stream",
     "text": [
      ".git\n",
      "bot\n",
      "Homework1\n",
      "Homework2\n",
      "Homework3\n",
      "Homework4(L5)\n",
      "Homework5(L6)\n",
      "LICENSE\n",
      "README.md\n"
     ]
    }
   ],
   "source": [
    "#4\n",
    "import os\n",
    "\n",
    "directory = \"/Users/Aleksey/Documents/GitHub/ITAM_python_course\"\n",
    "\n",
    "for file in os.listdir(directory):\n",
    "    print(file)\n"
   ]
  },
  {
   "cell_type": "code",
   "execution_count": 23,
   "id": "cbd1f87b",
   "metadata": {},
   "outputs": [
    {
     "name": "stdout",
     "output_type": "stream",
     "text": [
      "Наиболее часто встречающееся слово: и  :кол-во  8\n",
      "Самое длинное слово: храброславленный\n"
     ]
    }
   ],
   "source": [
    "#5\n",
    "def func(text):\n",
    "    words = text.split()\n",
    "    # Создаем словарь для подсчета частоты встречаемости слов\n",
    "    wordCount = {}\n",
    "\n",
    "    # Проходим по каждому слову и увеличиваем его частоту в словаре\n",
    "    for word in words:\n",
    "        wordCount[word.lower()] = wordCount.get(word.lower(), 0) + 1\n",
    "\n",
    "    # Находим наиболее часто встречающееся слово\n",
    "    mostFrequent = max(wordCount, key=wordCount.get)\n",
    "     \n",
    "    mostFrequentCount = wordCount.get(mostFrequent)\n",
    "\n",
    "    # Находим самое длинное слово\n",
    "    longest = max(words, key=len)\n",
    "\n",
    "    # Возвращаем найденные слова\n",
    "    return mostFrequent,mostFrequentCount, longest\n",
    "\n",
    "text = \"\"\"\n",
    "Варкалось. Хливкие шорьки Пырялись по наве, И хрюкотали зелюки, Как мюмзики в мове.\n",
    "\n",
    "О, бойся Бармаглота, сын! Он так свирлеп и дик! А в глу́ше ры́мит исполин — Злопастный Брандашмыг!\n",
    "\n",
    "Но взял он меч, и взял он щит, Высоких полон дум. В глущобу путь его лежит Под дерево Тумтум.\n",
    "\n",
    "Он стал под дерево и ждёт. И вдруг граахнул гром — Летит ужасный Бармаглот И пылкает огнём!\n",
    "\n",
    "Раз-два, раз-два! Горит трава, Взы-взы — стрижает меч, Ува! Ува! И голова Барабардает с плеч!\n",
    "\n",
    "О светозарный мальчик мой! Ты победил в бою! О храброславленный герой, Хвалу тебе пою!\n",
    "\n",
    "Варкалось. Хливкие шорьки Пырялись по наве. И хрюкотали зелюки, Как мюмзики в мове.\n",
    "\"\"\"\n",
    "\n",
    "mostFrequentWord, mostFrequentCount, longestWord = func(text)\n",
    "\n",
    "print(\"Наиболее часто встречающееся слово:\", mostFrequentWord, \" :кол-во \", mostFrequentCount)\n",
    "print(\"Самое длинное слово:\", longestWord)"
   ]
  },
  {
   "cell_type": "code",
   "execution_count": null,
   "id": "1142a649",
   "metadata": {},
   "outputs": [],
   "source": []
  }
 ],
 "metadata": {
  "kernelspec": {
   "display_name": "Python 3 (ipykernel)",
   "language": "python",
   "name": "python3"
  },
  "language_info": {
   "codemirror_mode": {
    "name": "ipython",
    "version": 3
   },
   "file_extension": ".py",
   "mimetype": "text/x-python",
   "name": "python",
   "nbconvert_exporter": "python",
   "pygments_lexer": "ipython3",
   "version": "3.11.5"
  }
 },
 "nbformat": 4,
 "nbformat_minor": 5
}
