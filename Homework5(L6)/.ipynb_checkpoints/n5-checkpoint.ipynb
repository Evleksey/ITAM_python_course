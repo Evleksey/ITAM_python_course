{
 "cells": [
  {
   "cell_type": "code",
   "execution_count": 7,
   "id": "e30d0b76",
   "metadata": {},
   "outputs": [],
   "source": [
    "class Student:\n",
    "        \n",
    "    def __init__(self, name = \"Ivan\", age = 18, group = \"10A\"):\n",
    "        self.name = name\n",
    "        self.age = age\n",
    "        self.groupNumber = group\n",
    "        \n",
    "    def getName(self):\n",
    "        return self.name\n",
    "    \n",
    "    def getAge(self):\n",
    "        return self.age\n",
    "    \n",
    "    def getGroupNumber(self):\n",
    "        return self.groupNumber\n",
    "    \n",
    "    def setNameAge(self, newName, newAge):\n",
    "        self.name = newName\n",
    "        self.age = newAge\n",
    "    \n",
    "    def setGroupNumber(self, newGroupNumber):\n",
    "        self.groupNumber = newGroupNumber"
   ]
  },
  {
   "cell_type": "code",
   "execution_count": null,
   "id": "ce5f014c",
   "metadata": {},
   "outputs": [],
   "source": [
    "student1 = Student()\n",
    "student1 = Student(\"Blex\")\n",
    "student1 = Student(\"Clex\",21)\n",
    "student1 = Student(\"Dlex\", 21, \"\")"
   ]
  },
  {
   "cell_type": "code",
   "execution_count": 3,
   "id": "8681f2f1",
   "metadata": {},
   "outputs": [
    {
     "name": "stdout",
     "output_type": "stream",
     "text": [
      "Студент 1: Имя - Alex, Возраст - 20, Номер группы - 10A\n",
      "Студент 2: Имя - Maria, Возраст - 19, Номер группы - 10A\n",
      "Студент 3: Имя - John, Возраст - 21, Номер группы - 10A\n",
      "Студент 4: Имя - Emma, Возраст - 18, Номер группы - 10A\n",
      "Студент 5: Имя - Michael, Возраст - 22, Номер группы - 10A\n"
     ]
    }
   ],
   "source": [
    "# Вывод данных о каждом студенте\n",
    "print(f\"Студент 1: Имя - {student1.getName()}, Возраст - {student1.getAge()}, Номер группы - {student1.getGroupNumber()}\")\n",
    "print(f\"Студент 2: Имя - {student2.getName()}, Возраст - {student2.getAge()}, Номер группы - {student2.getGroupNumber()}\")\n",
    "print(f\"Студент 3: Имя - {student3.getName()}, Возраст - {student3.getAge()}, Номер группы - {student3.getGroupNumber()}\")\n",
    "print(f\"Студент 4: Имя - {student4.getName()}, Возраст - {student4.getAge()}, Номер группы - {student4.getGroupNumber()}\")\n",
    "print(f\"Студент 5: Имя - {student5.getName()}, Возраст - {student5.getAge()}, Номер группы - {student5.getGroupNumber()}\")"
   ]
  },
  {
   "cell_type": "code",
   "execution_count": null,
   "id": "89dd65c3",
   "metadata": {},
   "outputs": [],
   "source": []
  }
 ],
 "metadata": {
  "kernelspec": {
   "display_name": "Python 3 (ipykernel)",
   "language": "python",
   "name": "python3"
  },
  "language_info": {
   "codemirror_mode": {
    "name": "ipython",
    "version": 3
   },
   "file_extension": ".py",
   "mimetype": "text/x-python",
   "name": "python",
   "nbconvert_exporter": "python",
   "pygments_lexer": "ipython3",
   "version": "3.11.5"
  }
 },
 "nbformat": 4,
 "nbformat_minor": 5
}
