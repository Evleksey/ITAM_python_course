{
 "cells": [
  {
   "cell_type": "code",
   "execution_count": 7,
   "id": "d4bd88d4",
   "metadata": {},
   "outputs": [],
   "source": [
    "class Student:\n",
    "        \n",
    "    def __init__(self, name = \"Ivan\", age = 18, group = \"10A\"):\n",
    "        self.name = name\n",
    "        self.age = age\n",
    "        self.groupNumber = group\n",
    "        \n",
    "    def getName(self):\n",
    "        return self.name\n",
    "    \n",
    "    def getAge(self):\n",
    "        return self.age\n",
    "    \n",
    "    def getGroupNumber(self):\n",
    "        return self.groupNumber\n",
    "    \n",
    "    def setNameAge(self, newName, newAge):\n",
    "        self.name = newName\n",
    "        self.age = newAge\n",
    "    \n",
    "    def setGroupNumber(self, newGroupNumber):\n",
    "        self.groupNumber = newGroupNumber"
   ]
  },
  {
   "cell_type": "code",
   "execution_count": 10,
   "id": "b7796af5",
   "metadata": {},
   "outputs": [],
   "source": [
    "student1 = Student()\n",
    "student2 = Student(\"Blex\")\n",
    "student3 = Student(\"Clex\",21)\n",
    "student4 = Student(\"直美\", 21, \"\")"
   ]
  },
  {
   "cell_type": "code",
   "execution_count": 11,
   "id": "bdfd5bdf",
   "metadata": {},
   "outputs": [
    {
     "name": "stdout",
     "output_type": "stream",
     "text": [
      "Студент 1: Имя - Ivan, Возраст - 18, Номер группы - 10A\n",
      "Студент 2: Имя - Blex, Возраст - 18, Номер группы - 10A\n",
      "Студент 3: Имя - Clex, Возраст - 21, Номер группы - 10A\n",
      "Студент 4: Имя - 直美, Возраст - 21, Номер группы - \n"
     ]
    }
   ],
   "source": [
    "# Вывод данных о каждом студенте\n",
    "print(f\"Студент 1: Имя - {student1.getName()}, Возраст - {student1.getAge()}, Номер группы - {student1.getGroupNumber()}\")\n",
    "print(f\"Студент 2: Имя - {student2.getName()}, Возраст - {student2.getAge()}, Номер группы - {student2.getGroupNumber()}\")\n",
    "print(f\"Студент 3: Имя - {student3.getName()}, Возраст - {student3.getAge()}, Номер группы - {student3.getGroupNumber()}\")\n",
    "print(f\"Студент 4: Имя - {student4.getName()}, Возраст - {student4.getAge()}, Номер группы - {student4.getGroupNumber()}\")"
   ]
  },
  {
   "cell_type": "code",
   "execution_count": 18,
   "id": "e406c2f8",
   "metadata": {},
   "outputs": [],
   "source": [
    "class くるま:\n",
    "    def __init__(self, color = 'white', c_type = 'hatchback', year = 2023):\n",
    "        self.color = color\n",
    "        self.type = c_type\n",
    "        self.year = year\n",
    "        \n",
    "    def start(self):\n",
    "        print(\"Автомобиль заведен\")\n",
    "\n",
    "    def stop(self):\n",
    "        print(\"Автомобиль заглушен\")\n",
    "\n",
    "    def set_year(self, year):\n",
    "        self.year = year\n",
    "\n",
    "    def set_type(self, car_type):\n",
    "        self.type = car_type\n",
    "\n",
    "    def set_color(self, color):\n",
    "        self.color = color\n",
    "        \n",
    "    def __str__(self, ):\n",
    "      return f\"\""
   ]
  },
  {
   "cell_type": "code",
   "execution_count": 19,
   "id": "a1df5048",
   "metadata": {},
   "outputs": [],
   "source": [
    "hachiroku = くるま()\n"
   ]
  },
  {
   "cell_type": "code",
   "execution_count": 20,
   "id": "a8d96713",
   "metadata": {},
   "outputs": [
    {
     "name": "stdout",
     "output_type": "stream",
     "text": [
      "<__main__.くるま object at 0x0000023A41AD2290>\n"
     ]
    }
   ],
   "source": []
  },
  {
   "cell_type": "code",
   "execution_count": null,
   "id": "b333fbeb",
   "metadata": {},
   "outputs": [],
   "source": []
  }
 ],
 "metadata": {
  "kernelspec": {
   "display_name": "Python 3 (ipykernel)",
   "language": "python",
   "name": "python3"
  },
  "language_info": {
   "codemirror_mode": {
    "name": "ipython",
    "version": 3
   },
   "file_extension": ".py",
   "mimetype": "text/x-python",
   "name": "python",
   "nbconvert_exporter": "python",
   "pygments_lexer": "ipython3",
   "version": "3.11.5"
  }
 },
 "nbformat": 4,
 "nbformat_minor": 5
}
