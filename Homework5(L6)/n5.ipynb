{
 "cells": [
  {
   "cell_type": "code",
   "execution_count": 7,
   "id": "cc12c22a",
   "metadata": {},
   "outputs": [],
   "source": [
    "class Student:\n",
    "        \n",
    "    def __init__(self, name = \"Ivan\", age = 18, group = \"10A\"):\n",
    "        self.name = name\n",
    "        self.age = age\n",
    "        self.groupNumber = group\n",
    "        \n",
    "    def getName(self):\n",
    "        return self.name\n",
    "    \n",
    "    def getAge(self):\n",
    "        return self.age\n",
    "    \n",
    "    def getGroupNumber(self):\n",
    "        return self.groupNumber\n",
    "    \n",
    "    def setNameAge(self, newName, newAge):\n",
    "        self.name = newName\n",
    "        self.age = newAge\n",
    "    \n",
    "    def setGroupNumber(self, newGroupNumber):\n",
    "        self.groupNumber = newGroupNumber"
   ]
  },
  {
   "cell_type": "code",
   "execution_count": 10,
   "id": "7cf1f0e6",
   "metadata": {},
   "outputs": [],
   "source": [
    "student1 = Student()\n",
    "student2 = Student(\"Blex\")\n",
    "student3 = Student(\"Clex\",21)\n",
    "student4 = Student(\"直美\", 21, \"\")"
   ]
  },
  {
   "cell_type": "code",
   "execution_count": 11,
   "id": "4e1eb917",
   "metadata": {},
   "outputs": [
    {
     "name": "stdout",
     "output_type": "stream",
     "text": [
      "Студент 1: Имя - Ivan, Возраст - 18, Номер группы - 10A\n",
      "Студент 2: Имя - Blex, Возраст - 18, Номер группы - 10A\n",
      "Студент 3: Имя - Clex, Возраст - 21, Номер группы - 10A\n",
      "Студент 4: Имя - 直美, Возраст - 21, Номер группы - \n"
     ]
    }
   ],
   "source": [
    "# Вывод данных о каждом студенте\n",
    "print(f\"Студент 1: Имя - {student1.getName()}, Возраст - {student1.getAge()}, Номер группы - {student1.getGroupNumber()}\")\n",
    "print(f\"Студент 2: Имя - {student2.getName()}, Возраст - {student2.getAge()}, Номер группы - {student2.getGroupNumber()}\")\n",
    "print(f\"Студент 3: Имя - {student3.getName()}, Возраст - {student3.getAge()}, Номер группы - {student3.getGroupNumber()}\")\n",
    "print(f\"Студент 4: Имя - {student4.getName()}, Возраст - {student4.getAge()}, Номер группы - {student4.getGroupNumber()}\")"
   ]
  },
  {
   "cell_type": "code",
   "execution_count": 21,
   "id": "7f029bfa",
   "metadata": {},
   "outputs": [],
   "source": [
    "class くるま:\n",
    "    def __init__(self, color = 'white', c_type = 'hatchback', year = 2023):\n",
    "        self.color = color\n",
    "        self.type = c_type\n",
    "        self.year = year\n",
    "        \n",
    "    def start(self):\n",
    "        print(\"Автомобиль заведен\")\n",
    "\n",
    "    def stop(self):\n",
    "        print(\"Автомобиль заглушен\")\n",
    "\n",
    "    def set_year(self, year):\n",
    "        self.year = year\n",
    "\n",
    "    def set_type(self, car_type):\n",
    "        self.type = car_type\n",
    "\n",
    "    def set_color(self, color):\n",
    "        self.color = color\n",
    "        \n",
    "    def __str__(self, ):\n",
    "      return f\"A {self.color} {self.year} {self.type} car\""
   ]
  },
  {
   "cell_type": "code",
   "execution_count": 22,
   "id": "c9f7fc1a",
   "metadata": {},
   "outputs": [],
   "source": [
    "hachiroku = くるま()\n"
   ]
  },
  {
   "cell_type": "code",
   "execution_count": 23,
   "id": "b0376014",
   "metadata": {},
   "outputs": [
    {
     "name": "stdout",
     "output_type": "stream",
     "text": [
      "A white 2023 hatchback car\n"
     ]
    }
   ],
   "source": [
    "print(hachiroku)"
   ]
  },
  {
   "cell_type": "code",
   "execution_count": null,
   "id": "77d03837",
   "metadata": {},
   "outputs": [],
   "source": []
  }
 ],
 "metadata": {
  "kernelspec": {
   "display_name": "Python 3 (ipykernel)",
   "language": "python",
   "name": "python3"
  },
  "language_info": {
   "codemirror_mode": {
    "name": "ipython",
    "version": 3
   },
   "file_extension": ".py",
   "mimetype": "text/x-python",
   "name": "python",
   "nbconvert_exporter": "python",
   "pygments_lexer": "ipython3",
   "version": "3.11.5"
  }
 },
 "nbformat": 4,
 "nbformat_minor": 5
}
